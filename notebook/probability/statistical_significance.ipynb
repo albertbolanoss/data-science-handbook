{
 "cells": [
  {
   "cell_type": "markdown",
   "id": "e9858850",
   "metadata": {},
   "source": [
    "# Statistical significance\n",
    "\n",
    "Statistical significance is a way to determine whether the results of an experiment or study are likely to be real or just happened by chance.\n",
    "\n",
    "In simple terms:\n",
    "If a result is statistically significant, it means it's unlikely to have occurred randomly and there is likely a real effect or difference.\n",
    "\n",
    "Key concepts:\n",
    "p-value:\n",
    "This tells you the probability of getting a result as extreme as the one observed, assuming the null hypothesis is true.\n",
    "If the p-value is less than a chosen threshold (commonly 0.05), the result is considered statistically significant.\n",
    "\n",
    "Null hypothesis (H₀):\n",
    "This is a default assumption that there is no effect or no difference.\n",
    "\n",
    "Significance level (α):\n",
    "This is the cutoff for deciding significance. The most common level is 0.05 (5%).\n",
    "\n",
    "\n",
    "\n",
    "Alpha (α) es el nivel de significancia que defines antes de realizar una prueba estadística.\n",
    "\n",
    "Es la probabilidad de rechazar la hipótesis nula (H₀) cuando en realidad es verdadera.\n",
    "Esto se llama un error tipo I.\n",
    "\n",
    "Alpha es el umbral que define cuánta evidencia necesitas contra H₀ para rechazarla.\n",
    "\n",
    "Supón que estás evaluando si un nuevo fármaco funciona mejor que el actual.\n",
    "\n",
    "H₀: El nuevo fármaco no es mejor (no hay diferencia).\n",
    "\n",
    "α = 0.05 → Aceptas hasta un 5% de probabilidad de equivocarte al rechazar H₀.\n",
    "\n",
    "Si obtienes un p-value = 0.03, como 0.03 < 0.05 → rechazas H₀.\n",
    "\n",
    "Estás aceptando un 5% de riesgo de cometer un error tipo I al afirmar que hay una diferencia.\n",
    "\n"
   ]
  }
 ],
 "metadata": {
  "language_info": {
   "name": "python"
  }
 },
 "nbformat": 4,
 "nbformat_minor": 5
}
