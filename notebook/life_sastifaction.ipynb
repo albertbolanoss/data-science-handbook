{
 "cells": [
  {
   "cell_type": "markdown",
   "metadata": {},
   "source": [
    "## Importing libraries"
   ]
  },
  {
   "cell_type": "code",
   "execution_count": 1,
   "metadata": {},
   "outputs": [],
   "source": [
    "import matplotlib.pyplot as plt\n",
    "import pandas as pd\n",
    "from pathlib import Path"
   ]
  },
  {
   "cell_type": "markdown",
   "metadata": {},
   "source": [
    "## Loading datasets:"
   ]
  },
  {
   "cell_type": "code",
   "execution_count": 2,
   "metadata": {},
   "outputs": [],
   "source": [
    "datapath = Path(\"../datasets/lifesat\")\n",
    "\n",
    "oecd_bli = pd.read_csv(datapath / \"oecd_bli.csv\")\n",
    "gdp_per_capita = pd.read_csv(datapath / \"gdp_per_capita.csv\")"
   ]
  },
  {
   "cell_type": "markdown",
   "metadata": {},
   "source": [
    "## Preprocesing GDP per Capital"
   ]
  },
  {
   "cell_type": "code",
   "execution_count": 3,
   "metadata": {},
   "outputs": [
    {
     "name": "stdout",
     "output_type": "stream",
     "text": [
      "                             GDP per capita (USD)\n",
      "Country                                          \n",
      "Afghanistan                           1978.961579\n",
      "Africa Eastern and Southern           3387.594670\n",
      "Africa Western and Central            4003.158913\n",
      "Albania                              13295.410885\n",
      "Algeria                              10681.679297\n"
     ]
    }
   ],
   "source": [
    "# Preprocess the GDP per capita data to keep only the year 2020:\n",
    "gdp_year = 2020\n",
    "gdppc_col = \"GDP per capita (USD)\"\n",
    "lifesat_col = \"Life satisfaction\"\n",
    "gdp_per_capita = gdp_per_capita[gdp_per_capita[\"Year\"] == gdp_year]     # Keep only 2020 data\n",
    "gdp_per_capita = gdp_per_capita.drop([\"Code\", \"Year\"], axis=1)          # Drop unnecessary columns Code and Year\n",
    "gdp_per_capita.columns = [\"Country\", gdppc_col]                         # Rename original dataset columns names (the first two columns) to \"Country\" and \"GDP per capita (USD)\"\n",
    "gdp_per_capita.set_index(\"Country\", inplace=True)                       # Set the index of the dataset to be the \"Country\" instead of the default index (numeric)\n",
    "                                                                        # inplace=True, means that the changes are made directly to the dataset and not is necessary to assign the result to a new variable\n",
    "print(gdp_per_capita.head())"
   ]
  },
  {
   "cell_type": "markdown",
   "metadata": {},
   "source": [
    "## Preprocesing OECD Better Life Index (BLI) data"
   ]
  },
  {
   "cell_type": "code",
   "execution_count": 4,
   "metadata": {},
   "outputs": [
    {
     "name": "stdout",
     "output_type": "stream",
     "text": [
      "Indicator  Air pollution  Dwellings without basic facilities  \\\n",
      "Country                                                        \n",
      "Australia            5.0                                 NaN   \n",
      "Austria             16.0                                 0.9   \n",
      "Belgium             15.0                                 1.9   \n",
      "Brazil              10.0                                 6.7   \n",
      "Canada               7.0                                 0.2   \n",
      "\n",
      "Indicator  Educational attainment  Employees working very long hours  \\\n",
      "Country                                                                \n",
      "Australia                    81.0                              13.04   \n",
      "Austria                      85.0                               6.66   \n",
      "Belgium                      77.0                               4.75   \n",
      "Brazil                       49.0                               7.13   \n",
      "Canada                       91.0                               3.69   \n",
      "\n",
      "Indicator  Employment rate  Feeling safe walking alone at night  \\\n",
      "Country                                                           \n",
      "Australia             73.0                                 63.5   \n",
      "Austria               72.0                                 80.6   \n",
      "Belgium               63.0                                 70.1   \n",
      "Brazil                61.0                                 35.6   \n",
      "Canada                73.0                                 82.2   \n",
      "\n",
      "Indicator  Homicide rate  Household net adjusted disposable income  \\\n",
      "Country                                                              \n",
      "Australia            1.1                                   32759.0   \n",
      "Austria              0.5                                   33541.0   \n",
      "Belgium              1.0                                   30364.0   \n",
      "Brazil              26.7                                       NaN   \n",
      "Canada               1.3                                   30854.0   \n",
      "\n",
      "Indicator  Household net wealth  Housing expenditure  ...  Personal earnings  \\\n",
      "Country                                               ...                      \n",
      "Australia              427064.0                 20.0  ...            49126.0   \n",
      "Austria                308325.0                 21.0  ...            50349.0   \n",
      "Belgium                386006.0                 21.0  ...            49675.0   \n",
      "Brazil                      NaN                  NaN  ...                NaN   \n",
      "Canada                 423849.0                 22.0  ...            47622.0   \n",
      "\n",
      "Indicator  Quality of support network  Rooms per person  Self-reported health  \\\n",
      "Country                                                                         \n",
      "Australia                        95.0               NaN                  85.0   \n",
      "Austria                          92.0               1.6                  70.0   \n",
      "Belgium                          91.0               2.2                  74.0   \n",
      "Brazil                           90.0               NaN                   NaN   \n",
      "Canada                           93.0               2.6                  88.0   \n",
      "\n",
      "Indicator  Stakeholder engagement for developing regulations  Student skills  \\\n",
      "Country                                                                        \n",
      "Australia                                                2.7           502.0   \n",
      "Austria                                                  1.3           492.0   \n",
      "Belgium                                                  2.0           503.0   \n",
      "Brazil                                                   2.2           395.0   \n",
      "Canada                                                   2.9           523.0   \n",
      "\n",
      "Indicator  Time devoted to leisure and personal care  Voter turnout  \\\n",
      "Country                                                               \n",
      "Australia                                      14.35           91.0   \n",
      "Austria                                        14.55           80.0   \n",
      "Belgium                                        15.70           89.0   \n",
      "Brazil                                           NaN           79.0   \n",
      "Canada                                         14.56           68.0   \n",
      "\n",
      "Indicator  Water quality  Years in education  \n",
      "Country                                       \n",
      "Australia           93.0                21.0  \n",
      "Austria             92.0                17.0  \n",
      "Belgium             84.0                19.3  \n",
      "Brazil              73.0                16.2  \n",
      "Canada              91.0                17.3  \n",
      "\n",
      "[5 rows x 24 columns]\n"
     ]
    }
   ],
   "source": [
    "# Preprocess the OECD Better Life Index (BLI) data:\n",
    "oecd_bli = oecd_bli[oecd_bli[\"INEQUALITY\"]==\"TOT\"]                              # Keep only the total values (not specific values for   \n",
    "oecd_bli = oecd_bli.pivot(index=\"Country\", columns=\"Indicator\", values=\"Value\") # It's like groupby country (rows) and indicator (columns) and set the values for these specified in the values parameter (in this case de column also named Value)\n",
    "# Example (not real data):\n",
    "# INDICATOR   Air pollution  Educational attainment  Water quality\n",
    "# Country                                                         \n",
    "# Australia              5.0                   81.0          93.0\n",
    "# Austria               16.0                   85.0          92.0\n",
    "# Belgium               15.0                   77.0          84.0\n",
    "print(oecd_bli.head())"
   ]
  },
  {
   "cell_type": "markdown",
   "metadata": {},
   "source": [
    "## Merging datasets"
   ]
  },
  {
   "cell_type": "code",
   "execution_count": 5,
   "metadata": {},
   "outputs": [
    {
     "name": "stdout",
     "output_type": "stream",
     "text": [
      "Index(['Air pollution', 'Dwellings without basic facilities',\n",
      "       'Educational attainment', 'Employees working very long hours',\n",
      "       'Employment rate', 'Feeling safe walking alone at night',\n",
      "       'Homicide rate', 'Household net adjusted disposable income',\n",
      "       'Household net wealth', 'Housing expenditure',\n",
      "       'Labour market insecurity', 'Life expectancy', 'Life satisfaction',\n",
      "       'Long-term unemployment rate', 'Personal earnings',\n",
      "       'Quality of support network', 'Rooms per person',\n",
      "       'Self-reported health',\n",
      "       'Stakeholder engagement for developing regulations', 'Student skills',\n",
      "       'Time devoted to leisure and personal care', 'Voter turnout',\n",
      "       'Water quality', 'Years in education', 'GDP per capita (USD)'],\n",
      "      dtype='object')\n",
      "              GDP per capita (USD)  Life satisfaction\n",
      "Country                                              \n",
      "South Africa          11466.189672                4.7\n",
      "Colombia              13441.492952                6.3\n",
      "Brazil                14063.982505                6.4\n",
      "Mexico                17887.750736                6.5\n",
      "Chile                 23324.524751                6.5\n"
     ]
    }
   ],
   "source": [
    "# Merge the two datasets:\n",
    "full_country_stats = pd.merge(left=oecd_bli, right=gdp_per_capita, left_index=True, right_index=True)   # Merge the two datasets by the index (Country)\n",
    "print(full_country_stats.columns)                                                                       # show only the columns names\n",
    "full_country_stats.sort_values(by=gdppc_col, inplace=True)                                              # Sort the dataset by the GDP per capita column\n",
    "full_country_stats = full_country_stats[[gdppc_col, lifesat_col]]                                       # Keep only the GDP per capita and Life satisfaction columns\n",
    "\n",
    "print(full_country_stats.head())"
   ]
  },
  {
   "cell_type": "markdown",
   "metadata": {},
   "source": [
    "#"
   ]
  },
  {
   "cell_type": "code",
   "execution_count": 6,
   "metadata": {},
   "outputs": [],
   "source": [
    "## Filter by min and max GDP.\n",
    "# To illustrate the risk of overfitting, I use only part of the data in most figures (all countries with a GDP per capita between min_gdp and max_gdp).\n",
    "#  Later in the chapter I reveal the missing countries, and show that they don't follow the same linear trend at all."
   ]
  },
  {
   "cell_type": "code",
   "execution_count": 7,
   "metadata": {},
   "outputs": [
    {
     "name": "stdout",
     "output_type": "stream",
     "text": [
      "         GDP per capita (USD)  Life satisfaction\n",
      "Country                                         \n",
      "Russia           26456.387938                5.8\n",
      "Greece           27287.083401                5.4\n",
      "Turkey           28384.987785                5.5\n",
      "Latvia           29932.493910                5.9\n",
      "Hungary          31007.768407                5.6\n"
     ]
    }
   ],
   "source": [
    "min_gdp = 23_500\n",
    "max_gdp = 62_500\n",
    "\n",
    "country_stats = full_country_stats[(full_country_stats[gdppc_col] >= min_gdp) &\n",
    "                                   (full_country_stats[gdppc_col] <= max_gdp)]\n",
    "print(country_stats.head())"
   ]
  },
  {
   "cell_type": "code",
   "execution_count": 8,
   "metadata": {},
   "outputs": [
    {
     "data": {
      "image/png": "[encoded data removed]",
      "text/plain": [
       "<Figure size 500x300 with 1 Axes>"
      ]
     },
     "metadata": {},
     "output_type": "display_data"
    }
   ],
   "source": [
    "country_stats.plot(kind='scatter', figsize=(5, 3), grid=True, x=gdppc_col, y=lifesat_col)\n",
    "plt.show()"
   ]
  },
  {
   "cell_type": "code",
   "execution_count": null,
   "metadata": {},
   "outputs": [],
   "source": []
  }
 ],
 "metadata": {
  "kernelspec": {
   "display_name": "Python 3 (ipykernel)",
   "language": "python",
   "name": "python3"
  },
  "language_info": {
   "codemirror_mode": {
    "name": "ipython",
    "version": 3
   },
   "file_extension": ".py",
   "mimetype": "text/x-python",
   "name": "python",
   "nbconvert_exporter": "python",
   "pygments_lexer": "ipython3",
   "version": "3.13.0"
  }
 },
 "nbformat": 4,
 "nbformat_minor": 4
}
