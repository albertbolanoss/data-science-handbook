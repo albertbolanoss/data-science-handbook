{
 "cells": [
  {
   "cell_type": "markdown",
   "metadata": {},
   "source": [
    "In order to use this data for machine learning, we need to be able to convert the content of each string into a vector of numbers. For this we will use the TF-IDF vectorizer (discussed in Feature Engineering), and create a pipeline that attaches it to a multinomial naive Bayes classifier:\n",
    "\n",
    "TF-IDF es una técnica fundamental en procesamiento de lenguaje natural (NLP) y recuperación de información que cuantifica la importancia de una palabra en un documento relativo a una colección de documentos.\n",
    "\n",
    "1. TF (Frecuencia de Término)\n",
    "Mide con qué frecuencia aparece un término en un documento específico.\n",
    "TF(t, d) = (Número de veces que aparece el término t en el documento d) / (Número total de términos en el documento d)\n",
    "\n",
    "2. IDF (Frecuencia Inversa de Documento)\n",
    "Mide la importancia del término en toda la colección de documentos.\n",
    "IDF(t, D) = log( (Número total de documentos en el corpus D) / (Número de documentos que contienen el término t) )\n",
    "\n",
    "3. TF-IDF\n",
    "Es el producto de TF e IDF:\n",
    "TF-IDF(t, d, D) = TF(t, d) * IDF(t, D)\n",
    "\n",
    "¿Para qué sirve TF-IDF?\n",
    "Extracción de palabras clave: Identifica términos importantes en documentos\n",
    "\n",
    "Búsqueda de información: Mejora los motores de búsqueda\n",
    "\n",
    "Clasificación de texto: Preprocesamiento para modelos de machine learning\n",
    "\n",
    "Similitud entre documentos: Comparación de contenidos textuales"
   ]
  },
  {
   "cell_type": "code",
   "execution_count": 1,
   "metadata": {},
   "outputs": [
    {
     "name": "stdout",
     "output_type": "stream",
     "text": [
      "Términos: ['amigos' 'carne' 'come' 'el' 'gato' 'perro' 'pescado' 'son']\n",
      "Matriz TF-IDF:\n",
      "[[0.         0.         0.4804584  0.37311881 0.4804584  0.\n",
      "  0.63174505 0.        ]\n",
      " [0.         0.63174505 0.4804584  0.37311881 0.         0.4804584\n",
      "  0.         0.        ]\n",
      " [0.46869865 0.         0.         0.55364194 0.3564574  0.3564574\n",
      "  0.         0.46869865]]\n"
     ]
    }
   ],
   "source": [
    "from sklearn.feature_extraction.text import TfidfVectorizer\n",
    "\n",
    "# Corpus de documentos\n",
    "documentos = [\n",
    "    \"el gato come pescado\",\n",
    "    \"el perro come carne\",\n",
    "    \"el gato y el perro son amigos\"\n",
    "]\n",
    "\n",
    "# Crear el vectorizador TF-IDF\n",
    "vectorizador = TfidfVectorizer()\n",
    "\n",
    "# Aplicar TF-IDF\n",
    "X = vectorizador.fit_transform(documentos)\n",
    "\n",
    "# Mostrar resultados\n",
    "print(\"Términos:\", vectorizador.get_feature_names_out())\n",
    "print(\"Matriz TF-IDF:\")\n",
    "print(X.toarray())"
   ]
  },
  {
   "cell_type": "markdown",
   "metadata": {},
   "source": [
    "Interpretación de Resultados\n",
    "La salida será una matriz donde:\n",
    "\n",
    "Cada fila representa un documento\n",
    "\n",
    "Cada columna representa un término\n",
    "\n",
    "Cada valor es el peso TF-IDF del término en ese documento\n",
    "\n",
    "Características Clave\n",
    "Efecto de normalización: Las palabras comunes (como \"el\") tendrán pesos bajos\n",
    "\n",
    "Especificidad: Términos raros pero relevantes en un documento tendrán pesos altos\n",
    "\n",
    "Escalabilidad: Funciona bien con grandes colecciones de documentos\n",
    "\n",
    "Limitaciones\n",
    "No captura relaciones semánticas entre palabras\n",
    "\n",
    "No considera el orden de las palabras\n",
    "\n",
    "Puede no funcionar bien con textos muy cortos\n",
    "\n",
    "TF-IDF sigue siendo ampliamente usado como línea base en proyectos de NLP antes de técnicas más avanzadas como word embeddings o transformers."
   ]
  }
 ],
 "metadata": {
  "kernelspec": {
   "display_name": ".venv",
   "language": "python",
   "name": "python3"
  },
  "language_info": {
   "codemirror_mode": {
    "name": "ipython",
    "version": 3
   },
   "file_extension": ".py",
   "mimetype": "text/x-python",
   "name": "python",
   "nbconvert_exporter": "python",
   "pygments_lexer": "ipython3",
   "version": "3.13.0"
  }
 },
 "nbformat": 4,
 "nbformat_minor": 2
}
