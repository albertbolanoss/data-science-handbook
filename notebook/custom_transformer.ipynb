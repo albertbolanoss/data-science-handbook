{
 "cells": [
  {
   "cell_type": "markdown",
   "id": "e50e213a",
   "metadata": {},
   "source": [
    "# Custom Transformer\n",
    "\n",
    "Es una clase de scikit-learn que permite aplicar una función de transformación arbitraria a tus datos. Es útil cuando quieres integrar transformaciones personalizadas dentro de un pipeline.\n",
    "\n",
    "np.log: transforma los datos aplicando el logaritmo natural.\n",
    "\n",
    "inverse_func=np.exp: es la función inversa, en este caso la exponencial.\n",
    "\n",
    "Esto es útil cuando deseas invertir la transformación más adelante, como cuando haces predicciones.\n",
    "\n"
   ]
  },
  {
   "cell_type": "code",
   "execution_count": 2,
   "id": "796c8189",
   "metadata": {},
   "outputs": [
    {
     "data": {
      "text/html": [
       "<div>\n",
       "<style scoped>\n",
       "    .dataframe tbody tr th:only-of-type {\n",
       "        vertical-align: middle;\n",
       "    }\n",
       "\n",
       "    .dataframe tbody tr th {\n",
       "        vertical-align: top;\n",
       "    }\n",
       "\n",
       "    .dataframe thead th {\n",
       "        text-align: right;\n",
       "    }\n",
       "</style>\n",
       "<table border=\"1\" class=\"dataframe\">\n",
       "  <thead>\n",
       "    <tr style=\"text-align: right;\">\n",
       "      <th></th>\n",
       "      <th>population</th>\n",
       "    </tr>\n",
       "  </thead>\n",
       "  <tbody>\n",
       "    <tr>\n",
       "      <th>0</th>\n",
       "      <td>5.774552</td>\n",
       "    </tr>\n",
       "    <tr>\n",
       "      <th>1</th>\n",
       "      <td>7.783641</td>\n",
       "    </tr>\n",
       "    <tr>\n",
       "      <th>2</th>\n",
       "      <td>6.206576</td>\n",
       "    </tr>\n",
       "    <tr>\n",
       "      <th>3</th>\n",
       "      <td>6.324359</td>\n",
       "    </tr>\n",
       "    <tr>\n",
       "      <th>4</th>\n",
       "      <td>6.336826</td>\n",
       "    </tr>\n",
       "    <tr>\n",
       "      <th>...</th>\n",
       "      <td>...</td>\n",
       "    </tr>\n",
       "    <tr>\n",
       "      <th>20635</th>\n",
       "      <td>6.739337</td>\n",
       "    </tr>\n",
       "    <tr>\n",
       "      <th>20636</th>\n",
       "      <td>5.874931</td>\n",
       "    </tr>\n",
       "    <tr>\n",
       "      <th>20637</th>\n",
       "      <td>6.914731</td>\n",
       "    </tr>\n",
       "    <tr>\n",
       "      <th>20638</th>\n",
       "      <td>6.608001</td>\n",
       "    </tr>\n",
       "    <tr>\n",
       "      <th>20639</th>\n",
       "      <td>7.234898</td>\n",
       "    </tr>\n",
       "  </tbody>\n",
       "</table>\n",
       "<p>20640 rows × 1 columns</p>\n",
       "</div>"
      ],
      "text/plain": [
       "       population\n",
       "0        5.774552\n",
       "1        7.783641\n",
       "2        6.206576\n",
       "3        6.324359\n",
       "4        6.336826\n",
       "...           ...\n",
       "20635    6.739337\n",
       "20636    5.874931\n",
       "20637    6.914731\n",
       "20638    6.608001\n",
       "20639    7.234898\n",
       "\n",
       "[20640 rows x 1 columns]"
      ]
     },
     "execution_count": 2,
     "metadata": {},
     "output_type": "execute_result"
    }
   ],
   "source": [
    "import pandas as pd\n",
    "import numpy as np\n",
    "from pathlib import Path\n",
    "from sklearn.preprocessing import FunctionTransformer\n",
    "\n",
    "housing = pd.read_csv(Path(\"../datasets/housing/housing.csv\"))\n",
    "\n",
    "\n",
    "log_transformer = FunctionTransformer(np.log, inverse_func=np.exp)\n",
    "log_pop = log_transformer.transform(housing[[\"population\"]])\n",
    "log_pop"
   ]
  },
  {
   "cell_type": "markdown",
   "id": "8c58d221",
   "metadata": {},
   "source": [
    "🔹 ¿Por qué usar inverse_func?\n",
    "Cuando transformas tu target (por ejemplo usando np.log) antes de entrenar un modelo, es necesario aplicar la función inversa (en este caso np.exp) para devolver las predicciones a la escala original. De lo contrario, tus resultados no tendrán sentido.\n",
    "\n",
    "MSE significa Mean Squared Error o Error Cuadrático Medio.\n",
    "\n",
    "🔍 ¿Qué mide?\n",
    "Mide cuánto se equivocó el modelo en promedio, pero elevando los errores al cuadrado (para penalizar los errores grandes).\n",
    "\n",
    "Interpretación:\n",
    "Mientras más bajo el MSE, mejor.\n",
    "\n",
    "En este caso, el modelo tiene un MSE de 2.34, lo que significa que las predicciones se desvían, en promedio, unos 1.53 (√2.34) del valor real, considerando que estamos prediciendo ingresos medios (entre 1 y 5).\n",
    "\n",
    "R2 Score: -0.7888...\n",
    "R² (coeficiente de determinación) mide qué tan bien el modelo explica la variabilidad del target.\n",
    "\n",
    "Interpretación:\n",
    "R² = 1 → predicción perfecta.\n",
    "\n",
    "R² = 0 → el modelo no explica nada (igual que predecir la media).\n",
    "\n",
    "R² < 0 → el modelo es peor que predecir simplemente la media del target.\n",
    "\n",
    "Tu modelo tiene:\n",
    "\n",
    "MSE = 2.34 → errores relativamente grandes.\n",
    "\n",
    "R² = -0.78 → el modelo está rindiendo mal; predice peor que simplemente decir \"todos ganan el promedio\".\n",
    "\n"
   ]
  },
  {
   "cell_type": "code",
   "execution_count": 3,
   "id": "ba658c75",
   "metadata": {},
   "outputs": [
    {
     "name": "stdout",
     "output_type": "stream",
     "text": [
      "MSE: 2.3440986173519103\n",
      "R2 Score: -0.7888297899932288\n"
     ]
    },
    {
     "data": {
      "image/png": "[encoded data removed]",
      "text/plain": [
       "<Figure size 800x500 with 1 Axes>"
      ]
     },
     "metadata": {},
     "output_type": "display_data"
    }
   ],
   "source": [
    "import numpy as np\n",
    "import matplotlib.pyplot as plt\n",
    "from sklearn.datasets import fetch_california_housing\n",
    "from sklearn.model_selection import train_test_split\n",
    "from sklearn.linear_model import LinearRegression\n",
    "from sklearn.compose import TransformedTargetRegressor\n",
    "from sklearn.metrics import mean_squared_error, r2_score\n",
    "from sklearn.preprocessing import FunctionTransformer\n",
    "\n",
    "# 1. Cargar datos\n",
    "data = fetch_california_housing()\n",
    "X = data.data\n",
    "y = data.target  # Ingresos medios por bloque en cientos de miles de USD\n",
    "\n",
    "# 2. Separar en entrenamiento y test\n",
    "X_train, X_test, y_train, y_test = train_test_split(X, y, test_size=0.2, random_state=42)\n",
    "\n",
    "# 3. Crear el transformador logarítmico\n",
    "log_transformer = FunctionTransformer(np.log, inverse_func=np.exp)\n",
    "\n",
    "# 4. Crear el modelo con TransformedTargetRegressor\n",
    "model = TransformedTargetRegressor(\n",
    "    regressor=LinearRegression(),\n",
    "    transformer=log_transformer\n",
    ")\n",
    "\n",
    "# 5. Entrenar el modelo\n",
    "model.fit(X_train, y_train)\n",
    "\n",
    "# 6. Predecir en test (la predicción ya aplica exp automáticamente)\n",
    "y_pred = model.predict(X_test)\n",
    "\n",
    "# 7. Validación\n",
    "print(\"MSE:\", mean_squared_error(y_test, y_pred))\n",
    "print(\"R2 Score:\", r2_score(y_test, y_pred))\n",
    "\n",
    "# 8. Graficar predicciones vs reales\n",
    "plt.figure(figsize=(8, 5))\n",
    "plt.scatter(y_test, y_pred, alpha=0.3)\n",
    "plt.plot([y_test.min(), y_test.max()], [y_test.min(), y_test.max()], 'k--', lw=2)\n",
    "plt.xlabel('Valor Real')\n",
    "plt.ylabel('Predicción')\n",
    "plt.title('Predicción vs Valor Real (Transformación log aplicada al target)')\n",
    "plt.grid(True)\n",
    "plt.show()"
   ]
  },
  {
   "cell_type": "markdown",
   "id": "aa64efd6",
   "metadata": {},
   "source": []
  },
  {
   "cell_type": "markdown",
   "id": "40850a15",
   "metadata": {},
   "source": [
    "Custom Transformer with hyper parameters\n",
    "\n",
    "Another approach to transforming multimodal distributions is to add a feature for each of the modes (at least the main ones), representing the similarity between the housing median age and that particular mode. The similarity measure is typically computed using a radial basis function (RBF)—any function that depends only on the distance between the input value and a fixed point. The most commonly used RBF is the Gaussian RBF, whose output value decays exponentially as the input value moves away from the fixed point. For example, the Gaussian RBF similarity between the housing age x and 35 is given by the equation exp(–γ(x – 35)²). The hyperparameter γ (gamma) determines how quickly the similarity measure decays as x moves away from 35. Using Scikit-Learn’s rbf_kernel() function, you can create a new Gaussian RBF feature measuring the similarity between the housing median age and 35:"
   ]
  },
  {
   "cell_type": "markdown",
   "id": "9bda256f",
   "metadata": {},
   "source": [
    "Ese código que compartiste está utilizando FunctionTransformer para aplicar una función de kernel RBF (Radial Basis Function), que se usa mucho en Machine Learning para medir similitud entre puntos.\n",
    "\n",
    "Es una función que mide qué tan similar es un dato x respecto a un centro y, usando la fórmula:\n",
    "\n",
    "RBF(x,y)=exp(−γ∥x−y∥^2)\n",
    "\n",
    "γ: controla qué tan rápido cae la similitud (más alto → más sensible).\n",
    "El resultado siempre está entre 0 y 1.\n",
    "x=y → similitud = 1 (máxima).\n",
    "Si x está lejos de y → similitud ≈ 0.\n",
    "\n",
    "Note that there’s no inverse function for the RBF kernel, since there are always two values at a given distance from a fixed point (except at distance 0). Also note that rbf_kernel() does not treat the features separately. If you pass it an array with two features, it will measure the 2D distance (Euclidean) to measure similarity. For example, here’s how to add a feature that will measure the geographic similarity between each district and San Francisco:"
   ]
  },
  {
   "cell_type": "code",
   "execution_count": 9,
   "id": "5038e50d",
   "metadata": {},
   "outputs": [
    {
     "name": "stdout",
     "output_type": "stream",
     "text": [
      "<class 'pandas.core.frame.DataFrame'>\n",
      "RangeIndex: 20640 entries, 0 to 20639\n",
      "Data columns (total 8 columns):\n",
      " #   Column      Non-Null Count  Dtype  \n",
      "---  ------      --------------  -----  \n",
      " 0   MedInc      20640 non-null  float64\n",
      " 1   HouseAge    20640 non-null  float64\n",
      " 2   AveRooms    20640 non-null  float64\n",
      " 3   AveBedrms   20640 non-null  float64\n",
      " 4   Population  20640 non-null  float64\n",
      " 5   AveOccup    20640 non-null  float64\n",
      " 6   Latitude    20640 non-null  float64\n",
      " 7   Longitude   20640 non-null  float64\n",
      "dtypes: float64(8)\n",
      "memory usage: 1.3 MB\n"
     ]
    },
    {
     "data": {
      "image/png": "[encoded data removed]",
      "text/plain": [
       "<Figure size 800x500 with 1 Axes>"
      ]
     },
     "metadata": {},
     "output_type": "display_data"
    }
   ],
   "source": [
    "from sklearn.preprocessing import FunctionTransformer\n",
    "from sklearn.metrics.pairwise import rbf_kernel\n",
    "from sklearn.datasets import fetch_california_housing\n",
    "import matplotlib.pyplot as plt\n",
    "import pandas as pd\n",
    "\n",
    "# Cargar dataset\n",
    "data = fetch_california_housing()\n",
    "housing = pd.DataFrame(data.data, columns=data.feature_names)\n",
    "housing.info()\n",
    "\n",
    "# Crear transformador RBF con centro en 35 años\n",
    "rbf_transformer = FunctionTransformer(rbf_kernel, kw_args=dict(Y=[[35.]], gamma=0.1))\n",
    "\n",
    "# Transformar la columna \"housing_median_age\"\n",
    "age_simil_35 = rbf_transformer.transform(housing[[\"HouseAge\"]])  # Cambia por \"housing_median_age\" si aparece así\n",
    "\n",
    "# Agregar al DataFrame\n",
    "housing[\"simil_to_35\"] = age_simil_35\n",
    "\n",
    "# Graficar la similitud vs edad\n",
    "plt.figure(figsize=(8, 5))\n",
    "plt.scatter(housing[\"HouseAge\"], housing[\"simil_to_35\"], alpha=0.3)\n",
    "plt.xlabel(\"Housing Median Age\")\n",
    "plt.ylabel(\"Similitud respecto a 35 años\")\n",
    "plt.title(\"Similitud RBF con edad 35\")\n",
    "plt.grid(True)\n",
    "plt.show()"
   ]
  },
  {
   "cell_type": "code",
   "execution_count": null,
   "id": "d6b78478",
   "metadata": {},
   "outputs": [
    {
     "data": {
      "text/plain": [
       "array([[0.99566482],\n",
       "       [0.99567518],\n",
       "       [0.99655196],\n",
       "       ...,\n",
       "       [0.6599801 ],\n",
       "       [0.6752005 ],\n",
       "       [0.67616077]], shape=(20640, 1))"
      ]
     },
     "execution_count": 11,
     "metadata": {},
     "output_type": "execute_result"
    }
   ],
   "source": [
    "sf_coords = 37.7749, -122.41\n",
    "sf_transformer = FunctionTransformer(rbf_kernel,\n",
    "                                     kw_args=dict(Y=[sf_coords], gamma=0.1))\n",
    "sf_simil = sf_transformer.transform(housing[[\"Latitude\", \"Longitude\"]])\n",
    "sf_simil"
   ]
  },
  {
   "cell_type": "markdown",
   "id": "b4a669dc",
   "metadata": {},
   "source": [
    "Es una forma simple de crear transformaciones personalizadas en Scikit-Learn usando una función Python cualquiera (como lambda o def).\n",
    "\n",
    "Te permite convertir cualquier función en un transformador compatible con Pipeline, ColumnTransformer, etc.\n",
    "\n",
    "Paso a paso:\n",
    "X[:, [0]]: selecciona la primera columna → [1.], [3.]\n",
    "\n",
    "X[:, [1]]: selecciona la segunda columna → [2.], [4.]"
   ]
  },
  {
   "cell_type": "code",
   "execution_count": null,
   "id": "a70dabb6",
   "metadata": {},
   "outputs": [],
   "source": [
    "from sklearn.preprocessing import FunctionTransformer\n",
    "import numpy as np\n",
    "\n",
    "# Creamos el transformador\n",
    "ratio_transformer = FunctionTransformer(lambda X: X[:, [0]] / X[:, [1]])\n",
    "\n",
    "# Aplicamos a una matriz de ejemplo\n",
    "X = np.array([[1., 2.], [3., 4.]])\n",
    "result = ratio_transformer.transform(X)\n",
    "print(result)"
   ]
  },
  {
   "cell_type": "markdown",
   "id": "714f03e6",
   "metadata": {},
   "source": [
    "FunctionTransformer is very handy, but what if you would like your transformer to be trainable, learning some parameters in the fit() method and using them later in the transform() method? For this, you need to write a custom class. Scikit-Learn relies on duck typing, so this class does not have to inherit from any particular base class. All it needs is three methods: fit() (which must return self), transform(), and fit_transform().\n",
    "\n",
    "You can get fit_transform() for free by simply adding TransformerMixin as a base class: the default implementation will just call fit() and then transform(). If you add BaseEstimator as a base class (and avoid using *args and **kwargs in your constructor), you will also get two extra methods: get_params() and set_params(). These will be useful for automatic hyperparameter tuning.\n",
    "\n",
    "For example, here’s a custom transformer that acts much like the StandardScaler:\n",
    "\n",
    "Here are a few things to note:\n",
    "\n",
    "The sklearn.utils.validation package contains several functions we can use to validate the inputs. For simplicity, we will skip such tests in the rest of this book, but production code should have them.\n",
    "\n",
    "Scikit-Learn pipelines require the fit() method to have two arguments X and y, which is why we need the y=None argument even though we don’t use y.\n",
    "\n",
    "All Scikit-Learn estimators set n_features_in_ in the fit() method, and they ensure that the data passed to transform() or predict() has this number of features.\n",
    "\n",
    "The fit() method must return self.\n",
    "\n",
    "This implementation is not 100% complete: all estimators should set feature_names_in_ in the fit() method when they are passed a DataFrame. Moreover, all transformers should provide a get_feature_names_out() method, as well as an inverse_transform() method when their transformation can be reversed. See the last exercise at the end of this chapter for more details.\n",
    "\n",
    "** check_array(X) **\n",
    " - Se usa para validar los datos de entrada X antes de trabajar con ellos.\n",
    " - Asegura que X sea un array tipo NumPy (o compatible, como un DataFrame).\n",
    " - Se asegura de que no tenga valores NaN o infinitos, a menos que lo permitas explícitamente.\n",
    "\n",
    " ¿Por qué es útil? Evita errores raros más adelante y asegura que tu función esté trabajando con datos válidos.\n",
    "\n",
    "\n",
    "** check_is_fitted(self) **\n",
    "\n",
    "Se usa para verificar que el transformador o estimador ya haya sido entrenado (fit()) antes de aplicar transform() o predict().\n",
    "\n",
    " - Busca atributos que hayan sido \"aprendidos\" en fit(), como self.mean_, self.scale_, etc.\n",
    " - Lanza un error si no encuentra esos atributos con sufijo _, lo que indica que el objeto no fue ajustado (fit) correctamente.\n",
    "\n",
    "¿Por qué es útil? Previene que alguien use .transform() sin haber llamado primero a .fit(), lo que causaría errores porque los atributos necesarios (mean_, scale_) no existen todavía."
   ]
  },
  {
   "cell_type": "code",
   "execution_count": 12,
   "id": "8da1aa9d",
   "metadata": {},
   "outputs": [],
   "source": [
    "from sklearn.base import BaseEstimator, TransformerMixin\n",
    "from sklearn.utils.validation import check_array, check_is_fitted\n",
    "\n",
    "class StandardScalerClone(BaseEstimator, TransformerMixin):\n",
    "    def __init__(self, with_mean=True):  # no *args or **kwargs!\n",
    "        self.with_mean = with_mean\n",
    "\n",
    "    def fit(self, X, y=None):  # y is required even though we don't use it\n",
    "        X = check_array(X)  # checks that X is an array with finite float values\n",
    "        self.mean_ = X.mean(axis=0)\n",
    "        self.scale_ = X.std(axis=0)\n",
    "        self.n_features_in_ = X.shape[1]  # every estimator stores this in fit()\n",
    "        return self  # always return self!\n",
    "\n",
    "    def transform(self, X):\n",
    "        check_is_fitted(self)  # looks for learned attributes (with trailing _)\n",
    "        X = check_array(X)\n",
    "        assert self.n_features_in_ == X.shape[1]\n",
    "        if self.with_mean:\n",
    "            X = X - self.mean_\n",
    "        return X / self.scale_"
   ]
  },
  {
   "cell_type": "markdown",
   "id": "ccda2f2f",
   "metadata": {},
   "source": [
    "🧠 ¿Qué es KMeans clustering?\n",
    "KMeans es un algoritmo de clustering no supervisado. Su propósito es agrupar tus datos en K grupos (clusters) basados en la proximidad entre ellos (usualmente usando la distancia euclidiana).\n",
    "\n",
    "🔍 ¿Cómo funciona?\n",
    "Eliges el número de clusters K (por ejemplo, 3).\n",
    "\n",
    "Se inicializan aleatoriamente K puntos (centroides).\n",
    "\n",
    "Cada punto de tus datos es asignado al centro más cercano.\n",
    "\n",
    "Se actualizan los centros (el promedio de los puntos en cada cluster).\n",
    "\n",
    "Se repite hasta que no cambian los clusters (o se alcanza un máximo de iteraciones).\n",
    "\n",
    "🎯 ¿Qué hace el transformador ClusterSimilarity?\n",
    "Ahora combinamos eso con una idea muy interesante: en lugar de solo agrupar, queremos usar los clusters como referencias, y medir qué tan parecido es cada punto a cada centro de cluster."
   ]
  },
  {
   "cell_type": "code",
   "execution_count": 6,
   "id": "0226bd37",
   "metadata": {},
   "outputs": [],
   "source": [
    "from sklearn.base import BaseEstimator, TransformerMixin\n",
    "from sklearn.cluster import KMeans\n",
    "from sklearn.metrics.pairwise import rbf_kernel\n",
    "\n",
    "class ClusterSimilarity(BaseEstimator, TransformerMixin):\n",
    "    def __init__(self, n_clusters=10, gamma=1.0, random_state=None):\n",
    "        self.n_clusters = n_clusters\n",
    "        self.gamma = gamma\n",
    "        self.random_state = random_state\n",
    "\n",
    "    def fit(self, X, y=None, sample_weight=None):\n",
    "        self.kmeans_ = KMeans(self.n_clusters, random_state=self.random_state)\n",
    "        self.kmeans_.fit(X, sample_weight=sample_weight)\n",
    "        return self  # always return self!\n",
    "\n",
    "    def transform(self, X):\n",
    "        return rbf_kernel(X, self.kmeans_.cluster_centers_, gamma=self.gamma)\n",
    "\n",
    "    def get_feature_names_out(self, names=None):\n",
    "        return [f\"Cluster {i} similarity\" for i in range(self.n_clusters)]"
   ]
  },
  {
   "cell_type": "markdown",
   "id": "35972289",
   "metadata": {},
   "source": [
    "A custom transformer can (and often does) use other estimators in its implementation. For example, the following code demonstrates custom transformer that uses a KMeans clusterer in the fit() method to identify the main clusters in the training data, and then uses rbf_kernel() in the transform() method to measure how similar each sample is to each cluster center:"
   ]
  },
  {
   "cell_type": "code",
   "execution_count": null,
   "id": "ed5ae012",
   "metadata": {},
   "outputs": [],
   "source": [
    "from sklearn.base import BaseEstimator, TransformerMixin\n",
    "from sklearn.cluster import KMeans\n",
    "from sklearn.metrics.pairwise import rbf_kernel\n",
    "\n",
    "class ClusterSimilarityKMean(BaseEstimator, TransformerMixin):\n",
    "    def __init__(self, n_clusters=10, gamma=1.0, random_state=None):\n",
    "        self.n_clusters = n_clusters\n",
    "        self.gamma = gamma\n",
    "        self.random_state = random_state\n",
    "\n",
    "    def fit(self, X, y=None, sample_weight=None):\n",
    "        self.kmeans_ = KMeans(self.n_clusters, random_state=self.random_state)\n",
    "        self.kmeans_.fit(X, sample_weight=sample_weight)\n",
    "        return self  # always return self!\n",
    "\n",
    "    def transform(self, X):\n",
    "        return rbf_kernel(X, self.kmeans_.cluster_centers_, gamma=self.gamma)\n",
    "\n",
    "    def get_feature_names_out(self, names=None):\n",
    "        return [f\"Cluster {i} similarity\" for i in range(self.n_clusters)]"
   ]
  }
 ],
 "metadata": {
  "kernelspec": {
   "display_name": ".venv",
   "language": "python",
   "name": "python3"
  },
  "language_info": {
   "codemirror_mode": {
    "name": "ipython",
    "version": 3
   },
   "file_extension": ".py",
   "mimetype": "text/x-python",
   "name": "python",
   "nbconvert_exporter": "python",
   "pygments_lexer": "ipython3",
   "version": "3.13.0"
  }
 },
 "nbformat": 4,
 "nbformat_minor": 5
}
