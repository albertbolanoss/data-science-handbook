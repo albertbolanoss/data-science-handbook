{
 "cells": [
  {
   "cell_type": "markdown",
   "metadata": {},
   "source": [
    "# AdaBoost Classified\n"
   ]
  },
  {
   "cell_type": "code",
   "execution_count": null,
   "metadata": {
    "vscode": {
     "languageId": "plaintext"
    }
   },
   "outputs": [],
   "source": [
    "from sklearn.ensemble import AdaBoostClassifier\n",
    "from sklearn.tree import DecisionTreeClassifier\n",
    "from sklearn.datasets import make_classification\n",
    "from sklearn.model_selection import train_test_split\n",
    "from sklearn.metrics import accuracy_score\n",
    "\n",
    "# Generar datos de ejemplo\n",
    "X, y = make_classification(n_samples=1000, n_features=20, random_state=42)\n",
    "\n",
    "# Dividir en entrenamiento y prueba\n",
    "X_train, X_test, y_train, y_test = train_test_split(X, y, test_size=0.2, random_state=42)\n",
    "\n",
    "# Definir el clasificador base (árbol de decisión con profundidad 1)\n",
    "base_clf = DecisionTreeClassifier(max_depth=1)\n",
    "\n",
    "# Crear y entrenar el modelo AdaBoost\n",
    "ada_clf = AdaBoostClassifier(base_estimator=base_clf, n_estimators=50, learning_rate=1.0, random_state=42)\n",
    "ada_clf.fit(X_train, y_train)\n",
    "\n",
    "# Hacer predicciones\n",
    "y_pred = ada_clf.predict(X_test)\n",
    "\n",
    "# Evaluar el modelo\n",
    "accuracy = accuracy_score(y_test, y_pred)\n",
    "print(f'Precisión de AdaBoost: {accuracy:.2f}')"
   ]
  },
  {
   "cell_type": "markdown",
   "metadata": {},
   "source": [
    "AdaBoost (Adaptive Boosting) es un algoritmo de aprendizaje automático supervisado que se utiliza principalmente para problemas de clasificación. Se basa en la idea de boosting, que combina múltiples clasificadores débiles para formar un clasificador fuerte.\n",
    "\n",
    "## Conceptos Clave\n",
    "Clasificadores débiles\n",
    "\n",
    "AdaBoost utiliza clasificadores simples llamados \"débilmente aprendices\" (weak learners), como los árboles de decisión con una sola división (stumps).\n",
    "\n",
    "Estos clasificadores tienen una precisión ligeramente mejor que el azar (~50%-60%).\n",
    "\n",
    "Iteraciones y pesos\n",
    "\n",
    "AdaBoost entrena secuencialmente múltiples clasificadores, ajustando los pesos de las instancias mal clasificadas en cada iteración.\n",
    "\n",
    "Los ejemplos difíciles reciben mayor peso, lo que obliga al modelo a enfocarse en ellos en la siguiente iteración.\n",
    "\n",
    "Combinación de clasificadores\n",
    "\n",
    "Cada clasificador tiene un peso de importancia en función de su precisión.\n",
    "\n",
    "La predicción final se obtiene mediante una votación ponderada de todos los clasificadores débiles.\n",
    "\n",
    "\n",
    "## Cómo Funciona AdaBoost\n",
    "Inicialización\n",
    "\n",
    "Se asigna un peso igual a todas las instancias del conjunto de entrenamiento.\n",
    "\n",
    "Entrenamiento Iterativo\n",
    "\n",
    "Se entrena un clasificador débil (por ejemplo, un árbol de decisión simple).\n",
    "\n",
    "Se evalúa su desempeño y se ajustan los pesos:\n",
    "\n",
    "Ejemplos mal clasificados → Se les asigna más peso.\n",
    "\n",
    "Ejemplos bien clasificados → Se les reduce el peso.\n",
    "\n",
    "Se repite el proceso con un nuevo clasificador débil.\n",
    "\n",
    "Predicción Final\n",
    "\n",
    "Se combinan todos los clasificadores entrenados mediante una votación ponderada para obtener la clasificación final.\n",
    "\n",
    "\n",
    "Ventajas de AdaBoost\n",
    "✅ Mejora el rendimiento al combinar múltiples clasificadores débiles.\n",
    "✅ Se enfoca en los errores, lo que lo hace más preciso en problemas complejos.\n",
    "✅ Robusto ante sobreajuste en la mayoría de los casos, si se usa correctamente.\n",
    "✅ Compatible con muchos clasificadores base (no solo árboles de decisión).\n",
    "\n",
    "🔹 Desventajas de AdaBoost\n",
    "❌ Sensible al ruido en los datos (puede dar demasiado peso a outliers).\n",
    "❌ Menos eficiente en grandes conjuntos de datos, ya que el entrenamiento es secuencial.\n",
    "❌ Depende de clasificadores débiles adecuados, si son demasiado débiles o demasiado fuertes, puede afectar el rendimiento.\n",
    "\n",
    "🔹 Casos de Uso\n",
    "\n",
    "- Detección de rostros y objetos.\n",
    "- Filtrado de spam en correos electrónicos.\n",
    "- Diagnóstico médico basado en datos clínicos.\n",
    "- Análisis de fraudes en transacciones financieras."
   ]
  }
 ],
 "metadata": {
  "language_info": {
   "name": "python"
  }
 },
 "nbformat": 4,
 "nbformat_minor": 2
}
