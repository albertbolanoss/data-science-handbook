{
 "cells": [
  {
   "cell_type": "markdown",
   "id": "b91b1da3",
   "metadata": {},
   "source": [
    "# Dummy variables\n",
    "\n",
    "It is a way to handle categorical variables.\n",
    "\n",
    "- Always include N - 1 dummys variables because the last one you get from D2 = 1 - D1s, if you include the last variable we will be failing in the linear regression calculations\n",
    "- Asi por ejemplo si este tiene 8 tipos de empleados, entonces deberia de plasmar solo 7 como dummy variables\n",
    "\n",
    "![image.png](../../images/dummy_variables.png)\n",
    "\n",
    "En Machine Learning (y también en regresiones), es común eliminar una dummy (por ejemplo, \"Australia\") para evitar el problema de multicolinealidad (el famoso \"dummy variable trap\"). Así que normalmente usarías solo 7 dummies si estás entrenando un modelo.\n",
    "\n",
    "\n",
    "| Ventas | México | Alemania | Japón | Brasil | Estados Unidos | Canadá | Francia | Australia |\n",
    "|--------|--------|----------|-------|--------|----------------|--------|---------|-----------|\n",
    "| 10000  | 1      | 0        | 0     | 0      | 0              | 0      | 0       | 0         |\n",
    "| 12000  | 0      | 1        | 0     | 0      | 0              | 0      | 0       | 0         |\n",
    "| 15000  | 0      | 0        | 1     | 0      | 0              | 0      | 0       | 0         |\n",
    "| 9000   | 0      | 0        | 0     | 1      | 0              | 0      | 0       | 0         |\n",
    "| 13000  | 0      | 0        | 0     | 0      | 1              | 0      | 0       | 0         |\n",
    "| 11000  | 0      | 0        | 0     | 0      | 0              | 1      | 0       | 0         |\n",
    "| 14000  | 0      | 0        | 0     | 0      | 0              | 0      | 1       | 0         |\n",
    "| 9500   | 0      | 0        | 0     | 0      | 0              | 0      | 0       | 1         |"
   ]
  },
  {
   "cell_type": "code",
   "execution_count": null,
   "id": "04727a41",
   "metadata": {
    "vscode": {
     "languageId": "plaintext"
    }
   },
   "outputs": [],
   "source": []
  }
 ],
 "metadata": {
  "language_info": {
   "name": "python"
  }
 },
 "nbformat": 4,
 "nbformat_minor": 5
}
