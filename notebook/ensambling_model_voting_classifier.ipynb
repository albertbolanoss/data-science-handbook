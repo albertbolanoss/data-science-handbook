{
 "cells": [
  {
   "cell_type": "markdown",
   "metadata": {},
   "source": [
    "# Voting Classifier\n",
    "\n",
    "References: \n",
    "- [Voting Classifier](https://www.geeksforgeeks.org/ml-voting-classifier-using-sklearn/)"
   ]
  },
  {
   "cell_type": "code",
   "execution_count": null,
   "metadata": {},
   "outputs": [],
   "source": [
    "from sklearn.ensemble import VotingClassifier \n",
    "from sklearn.linear_model import LogisticRegression \n",
    "from sklearn.svm import SVC \n",
    "from sklearn.tree import DecisionTreeClassifier \n",
    "from sklearn.datasets import load_iris \n",
    "from sklearn.metrics import accuracy_score \n",
    "from sklearn.model_selection import train_test_split \n",
    "  \n",
    "# loading iris dataset \n",
    "iris = load_iris() \n",
    "X = iris.data[:, :4] \n",
    "Y = iris.target \n",
    "  \n",
    "# train_test_split \n",
    "X_train, X_test, y_train, y_test = train_test_split(X,  \n",
    "                                                    Y,  \n",
    "                                                    test_size = 0.20,  \n",
    "                                                    random_state = 42) \n",
    "  \n",
    "# group / ensemble of models \n",
    "estimator = [] \n",
    "estimator.append(('LR',  \n",
    "                  LogisticRegression(solver ='lbfgs',  \n",
    "                                     multi_class ='multinomial',  \n",
    "                                     max_iter = 200))) \n",
    "estimator.append(('SVC', SVC(gamma ='auto', probability = True))) \n",
    "estimator.append(('DTC', DecisionTreeClassifier())) \n",
    "  \n",
    "# Voting Classifier with hard voting \n",
    "vot_hard = VotingClassifier(estimators = estimator, voting ='hard') \n",
    "vot_hard.fit(X_train, y_train) \n",
    "y_pred = vot_hard.predict(X_test) \n",
    "  \n",
    "# using accuracy_score metric to predict accuracy \n",
    "score = accuracy_score(y_test, y_pred) \n",
    "print(\"Hard Voting Score % d\" % score) \n",
    "  \n",
    "# Voting Classifier with soft voting \n",
    "vot_soft = VotingClassifier(estimators = estimator, voting ='soft') \n",
    "vot_soft.fit(X_train, y_train) \n",
    "y_pred = vot_soft.predict(X_test) \n",
    "  \n",
    "# using accuracy_score \n",
    "score = accuracy_score(y_test, y_pred) \n",
    "print(\"Soft Voting Score % d\" % score) "
   ]
  }
 ],
 "metadata": {
  "kernelspec": {
   "display_name": ".venv",
   "language": "python",
   "name": "python3"
  },
  "language_info": {
   "name": "python",
   "version": "3.13.0"
  }
 },
 "nbformat": 4,
 "nbformat_minor": 2
}
